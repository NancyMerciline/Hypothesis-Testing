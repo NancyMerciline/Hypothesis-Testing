{
  "cells": [
    {
      "cell_type": "markdown",
      "metadata": {
        "id": "view-in-github",
        "colab_type": "text"
      },
      "source": [
        "<a href=\"https://colab.research.google.com/github/NancyMerciline/Hypothesis-Testing/blob/main/HypothesisTest.ipynb\" target=\"_parent\"><img src=\"https://colab.research.google.com/assets/colab-badge.svg\" alt=\"Open In Colab\"/></a>"
      ]
    },
    {
      "cell_type": "code",
      "execution_count": null,
      "id": "44f151c0",
      "metadata": {
        "id": "44f151c0"
      },
      "outputs": [],
      "source": [
        "Normality Tests\n",
        "This section lists statistical tests that you can use to check if your data has a Gaussian distribution.\n",
        "\n",
        "Shapiro-Wilk Test\n",
        "Tests whether a data sample has a Gaussian distribution.\n",
        "\n",
        "Assumptions\n",
        "\n",
        "Observations in each sample are independent and identically distributed (iid).\n",
        "Interpretation\n",
        "\n",
        "H0: the sample has a Gaussian distribution.\n",
        "H1: the sample does not have a Gaussian distribution."
      ]
    },
    {
      "cell_type": "code",
      "execution_count": null,
      "id": "438c6866",
      "metadata": {
        "id": "438c6866",
        "outputId": "d2f1c974-5deb-4353-ec68-0ca65973fe90"
      },
      "outputs": [
        {
          "name": "stdout",
          "output_type": "stream",
          "text": [
            "stat=0.895, p=0.193\n",
            "Probably Gaussian\n"
          ]
        }
      ],
      "source": [
        "# Example of the Shapiro-Wilk Normality Test\n",
        "from scipy.stats import shapiro\n",
        "data = [0.873, 2.817, 0.121, -0.945, -0.055, -1.436, 0.360, -1.478, -1.637, -1.869]\n",
        "stat, p = shapiro(data)\n",
        "print('stat=%.3f, p=%.3f' % (stat, p))\n",
        "if p > 0.05:\n",
        "\tprint('Probably Gaussian')\n",
        "else:\n",
        "\tprint('Probably not Gaussian')"
      ]
    },
    {
      "cell_type": "code",
      "execution_count": null,
      "id": "67f978d2",
      "metadata": {
        "id": "67f978d2"
      },
      "outputs": [],
      "source": [
        "D’Agostino’s K^2 Test\n",
        "Tests whether a data sample has a Gaussian distribution.\n",
        "\n",
        "Assumptions\n",
        "\n",
        "Observations in each sample are independent and identically distributed (iid).\n",
        "Interpretation\n",
        "\n",
        "H0: the sample has a Gaussian distribution.\n",
        "H1: the sample does not have a Gaussian distribution."
      ]
    },
    {
      "cell_type": "code",
      "execution_count": null,
      "id": "696348b6",
      "metadata": {
        "id": "696348b6",
        "outputId": "77832376-381f-4749-f0bf-4b44a2eb56da"
      },
      "outputs": [
        {
          "name": "stdout",
          "output_type": "stream",
          "text": [
            "stat=3.392, p=0.183\n",
            "Probably Gaussian\n"
          ]
        },
        {
          "name": "stderr",
          "output_type": "stream",
          "text": [
            "C:\\Users\\Lenovo\\anaconda3\\lib\\site-packages\\scipy\\stats\\stats.py:1603: UserWarning: kurtosistest only valid for n>=20 ... continuing anyway, n=10\n",
            "  warnings.warn(\"kurtosistest only valid for n>=20 ... continuing \"\n"
          ]
        }
      ],
      "source": [
        "# Example of the D'Agostino's K^2 Normality Test\n",
        "from scipy.stats import normaltest\n",
        "data = [0.873, 2.817, 0.121, -0.945, -0.055, -1.436, 0.360, -1.478, -1.637, -1.869]\n",
        "stat, p = normaltest(data)\n",
        "print('stat=%.3f, p=%.3f' % (stat, p))\n",
        "if p > 0.05:\n",
        "\tprint('Probably Gaussian')\n",
        "else:\n",
        "\tprint('Probably not Gaussian')"
      ]
    },
    {
      "cell_type": "code",
      "execution_count": null,
      "id": "904c5b93",
      "metadata": {
        "id": "904c5b93"
      },
      "outputs": [],
      "source": [
        "Anderson-Darling Test\n",
        "Tests whether a data sample has a Gaussian distribution.\n",
        "\n",
        "Assumptions\n",
        "\n",
        "Observations in each sample are independent and identically distributed (iid).\n",
        "Interpretation\n",
        "\n",
        "H0: the sample has a Gaussian distribution.\n",
        "H1: the sample does not have a Gaussian distribution."
      ]
    },
    {
      "cell_type": "code",
      "execution_count": null,
      "id": "8918c12c",
      "metadata": {
        "id": "8918c12c",
        "outputId": "77bdf978-1ddf-4578-94bd-804477df166f"
      },
      "outputs": [
        {
          "name": "stdout",
          "output_type": "stream",
          "text": [
            "stat=0.424\n",
            "Probably Gaussian at the 15.0% level\n",
            "Probably Gaussian at the 10.0% level\n",
            "Probably Gaussian at the 5.0% level\n",
            "Probably Gaussian at the 2.5% level\n",
            "Probably Gaussian at the 1.0% level\n"
          ]
        }
      ],
      "source": [
        "# Example of the Anderson-Darling Normality Test\n",
        "from scipy.stats import anderson\n",
        "data = [0.873, 2.817, 0.121, -0.945, -0.055, -1.436, 0.360, -1.478, -1.637, -1.869]\n",
        "result = anderson(data)\n",
        "print('stat=%.3f' % (result.statistic))\n",
        "for i in range(len(result.critical_values)):\n",
        "\tsl, cv = result.significance_level[i], result.critical_values[i]\n",
        "\tif result.statistic < cv:\n",
        "\t\tprint('Probably Gaussian at the %.1f%% level' % (sl))\n",
        "\telse:\n",
        "\t\tprint('Probably not Gaussian at the %.1f%% level' % (sl))"
      ]
    },
    {
      "cell_type": "code",
      "execution_count": null,
      "id": "628eade4",
      "metadata": {
        "id": "628eade4"
      },
      "outputs": [],
      "source": [
        "Correlation Tests\n",
        "This section lists statistical tests that you can use to check if two samples are related.\n",
        "\n",
        "Pearson’s Correlation Coefficient\n",
        "Tests whether two samples have a linear relationship.\n",
        "\n",
        "Assumptions\n",
        "\n",
        "Observations in each sample are independent and identically distributed (iid).\n",
        "Observations in each sample are normally distributed.\n",
        "Observations in each sample have the same variance.\n",
        "Interpretation\n",
        "\n",
        "H0: the two samples are independent.\n",
        "H1: there is a dependency between the samples"
      ]
    },
    {
      "cell_type": "code",
      "execution_count": null,
      "id": "5e4a5719",
      "metadata": {
        "id": "5e4a5719",
        "outputId": "18d76509-bcad-4b4f-a789-d98b6de89da8"
      },
      "outputs": [
        {
          "name": "stdout",
          "output_type": "stream",
          "text": [
            "stat=0.688, p=0.028\n",
            "Probably dependent\n"
          ]
        }
      ],
      "source": [
        "# Example of the Pearson's Correlation test\n",
        "from scipy.stats import pearsonr\n",
        "data1 = [0.873, 2.817, 0.121, -0.945, -0.055, -1.436, 0.360, -1.478, -1.637, -1.869]\n",
        "data2 = [0.353, 3.517, 0.125, -7.545, -0.555, -1.536, 3.350, -1.578, -3.537, -1.579]\n",
        "stat, p = pearsonr(data1, data2)\n",
        "print('stat=%.3f, p=%.3f' % (stat, p))\n",
        "if p > 0.05:\n",
        "\tprint('Probably independent')\n",
        "else:\n",
        "\tprint('Probably dependent')"
      ]
    },
    {
      "cell_type": "code",
      "execution_count": null,
      "id": "cd11d7e9",
      "metadata": {
        "id": "cd11d7e9"
      },
      "outputs": [],
      "source": [
        "Spearman’s Rank Correlation\n",
        "Tests whether two samples have a monotonic relationship.\n",
        "\n",
        "Assumptions\n",
        "\n",
        "Observations in each sample are independent and identically distributed (iid).\n",
        "Observations in each sample can be ranked.\n",
        "Interpretation\n",
        "\n",
        "H0: the two samples are independent.\n",
        "H1: there is a dependency between the samples."
      ]
    },
    {
      "cell_type": "code",
      "execution_count": null,
      "id": "ca9f5d40",
      "metadata": {
        "id": "ca9f5d40"
      },
      "outputs": [],
      "source": [
        "# Example of the Spearman's Rank Correlation Test\n",
        "from scipy.stats import spearmanr\n",
        "data1 = [0.873, 2.817, 0.121, -0.945, -0.055, -1.436, 0.360, -1.478, -1.637, -1.869]\n",
        "data2 = [0.353, 3.517, 0.125, -7.545, -0.555, -1.536, 3.350, -1.578, -3.537, -1.579]\n",
        "stat, p = spearmanr(data1, data2)\n",
        "print('stat=%.3f, p=%.3f' % (stat, p))\n",
        "if p > 0.05:\n",
        "\tprint('Probably independent')\n",
        "else:\n",
        "\tprint('Probably dependent')"
      ]
    },
    {
      "cell_type": "code",
      "execution_count": null,
      "id": "3fb6cd53",
      "metadata": {
        "id": "3fb6cd53"
      },
      "outputs": [],
      "source": [
        "Kendall’s Rank Correlation\n",
        "Tests whether two samples have a monotonic relationship.\n",
        "\n",
        "Assumptions\n",
        "\n",
        "Observations in each sample are independent and identically distributed (iid).\n",
        "Observations in each sample can be ranked.\n",
        "Interpretation\n",
        "\n",
        "H0: the two samples are independent.\n",
        "H1: there is a dependency between the samples."
      ]
    },
    {
      "cell_type": "code",
      "execution_count": null,
      "id": "817d712c",
      "metadata": {
        "id": "817d712c",
        "outputId": "8c772396-e46c-4afc-98c8-fbc72c8754dc"
      },
      "outputs": [
        {
          "name": "stdout",
          "output_type": "stream",
          "text": [
            "stat=0.733, p=0.002\n",
            "Probably dependent\n"
          ]
        }
      ],
      "source": [
        "# Example of the Kendall's Rank Correlation Test\n",
        "from scipy.stats import kendalltau\n",
        "data1 = [0.873, 2.817, 0.121, -0.945, -0.055, -1.436, 0.360, -1.478, -1.637, -1.869]\n",
        "data2 = [0.353, 3.517, 0.125, -7.545, -0.555, -1.536, 3.350, -1.578, -3.537, -1.579]\n",
        "stat, p = kendalltau(data1, data2)\n",
        "print('stat=%.3f, p=%.3f' % (stat, p))\n",
        "if p > 0.05:\n",
        "\tprint('Probably independent')\n",
        "else:\n",
        "\tprint('Probably dependent')"
      ]
    },
    {
      "cell_type": "code",
      "execution_count": null,
      "id": "64c7c964",
      "metadata": {
        "id": "64c7c964"
      },
      "outputs": [],
      "source": [
        "Chi-Squared Test\n",
        "Tests whether two categorical variables are related or independent.\n",
        "\n",
        "Assumptions\n",
        "\n",
        "Observations used in the calculation of the contingency table are independent.\n",
        "25 or more examples in each cell of the contingency table.\n",
        "Interpretation\n",
        "\n",
        "H0: the two samples are independent.\n",
        "H1: there is a dependency between the samples."
      ]
    },
    {
      "cell_type": "code",
      "execution_count": null,
      "id": "033c80ed",
      "metadata": {
        "id": "033c80ed",
        "outputId": "48bbe743-e09c-4d72-b627-7f96bcb90118"
      },
      "outputs": [
        {
          "name": "stdout",
          "output_type": "stream",
          "text": [
            "stat=0.272, p=0.873\n",
            "Probably independent\n"
          ]
        }
      ],
      "source": [
        "# Example of the Chi-Squared Test\n",
        "from scipy.stats import chi2_contingency\n",
        "table = [[10, 20, 30],[6,  9,  17]]\n",
        "stat, p, dof, expected = chi2_contingency(table)\n",
        "print('stat=%.3f, p=%.3f' % (stat, p))\n",
        "if p > 0.05:\n",
        "\tprint('Probably independent')\n",
        "else:\n",
        "\tprint('Probably dependent')"
      ]
    },
    {
      "cell_type": "code",
      "execution_count": null,
      "id": "87307b5f",
      "metadata": {
        "id": "87307b5f"
      },
      "outputs": [],
      "source": [
        "Stationary Tests\n",
        "This section lists statistical tests that you can use to check if a time series is stationary or not.\n",
        "\n",
        "Augmented Dickey-Fuller Unit Root Test\n",
        "Tests whether a time series has a unit root, e.g. has a trend or more generally is autoregressive.\n",
        "\n",
        "Assumptions\n",
        "\n",
        "Observations in are temporally ordered.\n",
        "Interpretation\n",
        "\n",
        "H0: a unit root is present (series is non-stationary).\n",
        "H1: a unit root is not present (series is stationary)."
      ]
    },
    {
      "cell_type": "code",
      "execution_count": null,
      "id": "63399c17",
      "metadata": {
        "id": "63399c17",
        "outputId": "e51ad9ce-df95-45b9-cc72-029b2ab8ddff"
      },
      "outputs": [
        {
          "name": "stdout",
          "output_type": "stream",
          "text": [
            "stat=2.430, p=0.999\n",
            "Probably not Stationary\n"
          ]
        }
      ],
      "source": [
        "# Example of the Augmented Dickey-Fuller unit root test\n",
        "from statsmodels.tsa.stattools import adfuller\n",
        "data = [0, 1, 2, 3, 4, 5, 6, 7, 8, 9]\n",
        "stat, p, lags, obs, crit, t = adfuller(data)\n",
        "print('stat=%.3f, p=%.3f' % (stat, p))\n",
        "if p > 0.05:\n",
        "\tprint('Probably not Stationary')\n",
        "else:\n",
        "\tprint('Probably Stationary')"
      ]
    },
    {
      "cell_type": "code",
      "execution_count": null,
      "id": "db2c52bc",
      "metadata": {
        "id": "db2c52bc"
      },
      "outputs": [],
      "source": [
        "Kwiatkowski-Phillips-Schmidt-Shin\n",
        "Tests whether a time series is trend stationary or not.\n",
        "\n",
        "Assumptions\n",
        "\n",
        "Observations in are temporally ordered.\n",
        "Interpretation\n",
        "\n",
        "H0: the time series is trend-stationary.\n",
        "H1: the time series is not trend-stationary."
      ]
    },
    {
      "cell_type": "code",
      "execution_count": null,
      "id": "a6e93112",
      "metadata": {
        "id": "a6e93112"
      },
      "outputs": [],
      "source": [
        "# Example of the Kwiatkowski-Phillips-Schmidt-Shin test\n",
        "from statsmodels.tsa.stattools import kpss\n",
        "data = [0, 1, 2, 3, 4, 5, 6, 7, 8, 9]\n",
        "stat, p, lags, crit = kpss(data)\n",
        "print('stat=%.3f, p=%.3f' % (stat, p))\n",
        "if p > 0.05:\n",
        "\tprint('Probably Stationary')\n",
        "else:\n",
        "\tprint('Probably not Stationary')"
      ]
    },
    {
      "cell_type": "code",
      "execution_count": null,
      "id": "22bc985d",
      "metadata": {
        "id": "22bc985d"
      },
      "outputs": [],
      "source": [
        "Parametric Statistical Hypothesis Tests\n",
        "This section lists statistical tests that you can use to compare data samples.\n",
        "\n",
        "Student’s t-test\n",
        "Tests whether the means of two independent samples are significantly different.\n",
        "\n",
        "Assumptions\n",
        "\n",
        "Observations in each sample are independent and identically distributed (iid).\n",
        "Observations in each sample are normally distributed.\n",
        "Observations in each sample have the same variance.\n",
        "Interpretation\n",
        "\n",
        "H0: the means of the samples are equal.\n",
        "H1: the means of the samples are unequal."
      ]
    },
    {
      "cell_type": "code",
      "execution_count": null,
      "id": "28ae8a97",
      "metadata": {
        "id": "28ae8a97"
      },
      "outputs": [],
      "source": [
        "# Example of the Student's t-test\n",
        "from scipy.stats import ttest_ind\n",
        "data1 = [0.873, 2.817, 0.121, -0.945, -0.055, -1.436, 0.360, -1.478, -1.637, -1.869]\n",
        "data2 = [1.142, -0.432, -0.938, -0.729, -0.846, -0.157, 0.500, 1.183, -1.075, -0.169]\n",
        "stat, p = ttest_ind(data1, data2)\n",
        "print('stat=%.3f, p=%.3f' % (stat, p))\n",
        "if p > 0.05:\n",
        "\tprint('Probably the same distribution')\n",
        "else:\n",
        "\tprint('Probably different distributions')"
      ]
    },
    {
      "cell_type": "code",
      "execution_count": null,
      "id": "31b3ab46",
      "metadata": {
        "id": "31b3ab46"
      },
      "outputs": [],
      "source": [
        "Paired Student’s t-test\n",
        "Tests whether the means of two paired samples are significantly different.\n",
        "\n",
        "Assumptions\n",
        "\n",
        "Observations in each sample are independent and identically distributed (iid).\n",
        "Observations in each sample are normally distributed.\n",
        "Observations in each sample have the same variance.\n",
        "Observations across each sample are paired.\n",
        "Interpretation\n",
        "\n",
        "H0: the means of the samples are equal.\n",
        "H1: the means of the samples are unequal."
      ]
    },
    {
      "cell_type": "code",
      "execution_count": null,
      "id": "b863856d",
      "metadata": {
        "id": "b863856d"
      },
      "outputs": [],
      "source": [
        "# Example of the Paired Student's t-test\n",
        "from scipy.stats import ttest_rel\n",
        "data1 = [0.873, 2.817, 0.121, -0.945, -0.055, -1.436, 0.360, -1.478, -1.637, -1.869]\n",
        "data2 = [1.142, -0.432, -0.938, -0.729, -0.846, -0.157, 0.500, 1.183, -1.075, -0.169]\n",
        "stat, p = ttest_rel(data1, data2)\n",
        "print('stat=%.3f, p=%.3f' % (stat, p))\n",
        "if p > 0.05:\n",
        "\tprint('Probably the same distribution')\n",
        "else:\n",
        "\tprint('Probably different distributions')"
      ]
    },
    {
      "cell_type": "code",
      "execution_count": null,
      "id": "d68392ed",
      "metadata": {
        "id": "d68392ed"
      },
      "outputs": [],
      "source": [
        "Analysis of Variance Test (ANOVA)\n",
        "Tests whether the means of two or more independent samples are significantly different.\n",
        "\n",
        "Assumptions\n",
        "\n",
        "Observations in each sample are independent and identically distributed (iid).\n",
        "Observations in each sample are normally distributed.\n",
        "Observations in each sample have the same variance.\n",
        "Interpretation\n",
        "\n",
        "H0: the means of the samples are equal.\n",
        "H1: one or more of the means of the samples are unequal."
      ]
    },
    {
      "cell_type": "code",
      "execution_count": null,
      "id": "e77d3a71",
      "metadata": {
        "id": "e77d3a71"
      },
      "outputs": [],
      "source": [
        "# Example of the Analysis of Variance Test\n",
        "from scipy.stats import f_oneway\n",
        "data1 = [0.873, 2.817, 0.121, -0.945, -0.055, -1.436, 0.360, -1.478, -1.637, -1.869]\n",
        "data2 = [1.142, -0.432, -0.938, -0.729, -0.846, -0.157, 0.500, 1.183, -1.075, -0.169]\n",
        "data3 = [-0.208, 0.696, 0.928, -1.148, -0.213, 0.229, 0.137, 0.269, -0.870, -1.204]\n",
        "stat, p = f_oneway(data1, data2, data3)\n",
        "print('stat=%.3f, p=%.3f' % (stat, p))\n",
        "if p > 0.05:\n",
        "\tprint('Probably the same distribution')\n",
        "else:\n",
        "\tprint('Probably different distributions')"
      ]
    },
    {
      "cell_type": "code",
      "execution_count": null,
      "id": "07cd3bcf",
      "metadata": {
        "id": "07cd3bcf"
      },
      "outputs": [],
      "source": [
        "Nonparametric Statistical Hypothesis Tests\n",
        "Mann-Whitney U Test\n",
        "Tests whether the distributions of two independent samples are equal or not.\n",
        "\n",
        "Assumptions\n",
        "\n",
        "Observations in each sample are independent and identically distributed (iid).\n",
        "Observations in each sample can be ranked.\n",
        "Interpretation\n",
        "\n",
        "H0: the distributions of both samples are equal.\n",
        "H1: the distributions of both samples are not equal."
      ]
    },
    {
      "cell_type": "code",
      "execution_count": null,
      "id": "a22e5e47",
      "metadata": {
        "id": "a22e5e47"
      },
      "outputs": [],
      "source": [
        "# Example of the Mann-Whitney U Test\n",
        "from scipy.stats import mannwhitneyu\n",
        "data1 = [0.873, 2.817, 0.121, -0.945, -0.055, -1.436, 0.360, -1.478, -1.637, -1.869]\n",
        "data2 = [1.142, -0.432, -0.938, -0.729, -0.846, -0.157, 0.500, 1.183, -1.075, -0.169]\n",
        "stat, p = mannwhitneyu(data1, data2)\n",
        "print('stat=%.3f, p=%.3f' % (stat, p))\n",
        "if p > 0.05:\n",
        "\tprint('Probably the same distribution')\n",
        "else:\n",
        "\tprint('Probably different distributions')"
      ]
    },
    {
      "cell_type": "code",
      "execution_count": null,
      "id": "3694a5b2",
      "metadata": {
        "id": "3694a5b2"
      },
      "outputs": [],
      "source": [
        "Wilcoxon Signed-Rank Test\n",
        "Tests whether the distributions of two paired samples are equal or not.\n",
        "\n",
        "Assumptions\n",
        "\n",
        "Observations in each sample are independent and identically distributed (iid).\n",
        "Observations in each sample can be ranked.\n",
        "Observations across each sample are paired.\n",
        "Interpretation\n",
        "\n",
        "H0: the distributions of both samples are equal.\n",
        "H1: the distributions of both samples are not equal."
      ]
    },
    {
      "cell_type": "code",
      "execution_count": null,
      "id": "95b614e2",
      "metadata": {
        "id": "95b614e2"
      },
      "outputs": [],
      "source": [
        "# Example of the Wilcoxon Signed-Rank Test\n",
        "from scipy.stats import wilcoxon\n",
        "data1 = [0.873, 2.817, 0.121, -0.945, -0.055, -1.436, 0.360, -1.478, -1.637, -1.869]\n",
        "data2 = [1.142, -0.432, -0.938, -0.729, -0.846, -0.157, 0.500, 1.183, -1.075, -0.169]\n",
        "stat, p = wilcoxon(data1, data2)\n",
        "print('stat=%.3f, p=%.3f' % (stat, p))\n",
        "if p > 0.05:\n",
        "\tprint('Probably the same distribution')\n",
        "else:\n",
        "\tprint('Probably different distributions')"
      ]
    },
    {
      "cell_type": "code",
      "execution_count": null,
      "id": "ef45db33",
      "metadata": {
        "id": "ef45db33"
      },
      "outputs": [],
      "source": [
        "Kruskal-Wallis H Test\n",
        "Tests whether the distributions of two or more independent samples are equal or not.\n",
        "\n",
        "Assumptions\n",
        "\n",
        "Observations in each sample are independent and identically distributed (iid).\n",
        "Observations in each sample can be ranked.\n",
        "Interpretation\n",
        "\n",
        "H0: the distributions of all samples are equal.\n",
        "H1: the distributions of one or more samples are not equal."
      ]
    },
    {
      "cell_type": "code",
      "execution_count": null,
      "id": "d86902d2",
      "metadata": {
        "id": "d86902d2"
      },
      "outputs": [],
      "source": [
        "# Example of the Kruskal-Wallis H Test\n",
        "from scipy.stats import kruskal\n",
        "data1 = [0.873, 2.817, 0.121, -0.945, -0.055, -1.436, 0.360, -1.478, -1.637, -1.869]\n",
        "data2 = [1.142, -0.432, -0.938, -0.729, -0.846, -0.157, 0.500, 1.183, -1.075, -0.169]\n",
        "stat, p = kruskal(data1, data2)\n",
        "print('stat=%.3f, p=%.3f' % (stat, p))\n",
        "if p > 0.05:\n",
        "\tprint('Probably the same distribution')\n",
        "else:\n",
        "\tprint('Probably different distributions')"
      ]
    },
    {
      "cell_type": "code",
      "execution_count": null,
      "id": "f6c66c6b",
      "metadata": {
        "id": "f6c66c6b"
      },
      "outputs": [],
      "source": [
        "Friedman Test\n",
        "Tests whether the distributions of two or more paired samples are equal or not.\n",
        "\n",
        "Assumptions\n",
        "\n",
        "Observations in each sample are independent and identically distributed (iid).\n",
        "Observations in each sample can be ranked.\n",
        "Observations across each sample are paired.\n",
        "Interpretation\n",
        "\n",
        "H0: the distributions of all samples are equal.\n",
        "H1: the distributions of one or more samples are not equal."
      ]
    },
    {
      "cell_type": "code",
      "execution_count": null,
      "id": "72f9940d",
      "metadata": {
        "id": "72f9940d",
        "outputId": "1b887b02-9078-4411-8fde-560feb5eb475"
      },
      "outputs": [
        {
          "name": "stdout",
          "output_type": "stream",
          "text": [
            "stat=0.800, p=0.670\n",
            "Probably the same distribution\n"
          ]
        }
      ],
      "source": [
        "# Example of the Friedman Test\n",
        "from scipy.stats import friedmanchisquare\n",
        "data1 = [0.873, 2.817, 0.121, -0.945, -0.055, -1.436, 0.360, -1.478, -1.637, -1.869]\n",
        "data2 = [1.142, -0.432, -0.938, -0.729, -0.846, -0.157, 0.500, 1.183, -1.075, -0.169]\n",
        "data3 = [-0.208, 0.696, 0.928, -1.148, -0.213, 0.229, 0.137, 0.269, -0.870, -1.204]\n",
        "stat, p = friedmanchisquare(data1, data2, data3)\n",
        "print('stat=%.3f, p=%.3f' % (stat, p))\n",
        "if p > 0.05:\n",
        "\tprint('Probably the same distribution')\n",
        "else:\n",
        "\tprint('Probably different distributions')"
      ]
    },
    {
      "cell_type": "code",
      "execution_count": null,
      "id": "43b936a5",
      "metadata": {
        "id": "43b936a5"
      },
      "outputs": [],
      "source": []
    }
  ],
  "metadata": {
    "kernelspec": {
      "display_name": "Python 3",
      "language": "python",
      "name": "python3"
    },
    "language_info": {
      "codemirror_mode": {
        "name": "ipython",
        "version": 3
      },
      "file_extension": ".py",
      "mimetype": "text/x-python",
      "name": "python",
      "nbconvert_exporter": "python",
      "pygments_lexer": "ipython3",
      "version": "3.8.8"
    },
    "colab": {
      "provenance": [],
      "include_colab_link": true
    }
  },
  "nbformat": 4,
  "nbformat_minor": 5
}